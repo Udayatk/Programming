{
 "cells": [
  {
   "cell_type": "code",
   "execution_count": 1,
   "metadata": {},
   "outputs": [],
   "source": [
    "import matplotlib.pyplot as plt"
   ]
  },
  {
   "cell_type": "code",
   "execution_count": 2,
   "metadata": {},
   "outputs": [],
   "source": [
    "\"\"\"A python program to learn abot classes\"\"\"\n",
    "\n",
    "\n",
    "class Circle(object):\n",
    "    \"\"\"Class circle with attributes object\"\"\"\n",
    "##    def __init__(self,radius,color):\n",
    "##        self.radius=radius\n",
    "##        self.color=color\n",
    "##\n",
    "##    def add_radius(self,r):\n",
    "##        \"\"\"Function radius with attributes self and r\"\"\"\n",
    "##        self.radius=self.radius+r\n",
    "##       return self.radius\n",
    "\n",
    "    def __init__(self,radius=3,color='blue'):\n",
    "        self.radius=radius\n",
    "        self.color=color\n",
    "\n",
    "    def add_radius(self,r):\n",
    "        self.radius=self.radius+r\n",
    "        return self.radius\n",
    "    \n",
    "    def drawCircle(self):\n",
    "        plt.gca().add_patch(plt.Circle(0,0),radius=self.radius,fc=self.color)\n",
    "        plt.axis('scaled')\n",
    "        plt.show\n"
   ]
  },
  {
   "cell_type": "code",
   "execution_count": 3,
   "metadata": {},
   "outputs": [
    {
     "name": "stdout",
     "output_type": "stream",
     "text": [
      "10\n",
      "red\n"
     ]
    }
   ],
   "source": [
    "RedCircle=Circle(10,'red')\n",
    "dir(RedCircle)\n",
    "print(RedCircle.radius)\n",
    "print(RedCircle.color)"
   ]
  }
 ],
 "metadata": {
  "kernelspec": {
   "display_name": "Python 3",
   "language": "python",
   "name": "python3"
  },
  "language_info": {
   "codemirror_mode": {
    "name": "ipython",
    "version": 3
   },
   "file_extension": ".py",
   "mimetype": "text/x-python",
   "name": "python",
   "nbconvert_exporter": "python",
   "pygments_lexer": "ipython3",
   "version": "3.12.2"
  }
 },
 "nbformat": 4,
 "nbformat_minor": 2
}
