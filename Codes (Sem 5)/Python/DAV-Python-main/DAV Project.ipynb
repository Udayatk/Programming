{
 "cells": [
  {
   "cell_type": "code",
   "execution_count": 1,
   "metadata": {},
   "outputs": [
    {
     "ename": "ModuleNotFoundError",
     "evalue": "No module named 'seaborn'",
     "output_type": "error",
     "traceback": [
      "\u001b[1;31m---------------------------------------------------------------------------\u001b[0m",
      "\u001b[1;31mModuleNotFoundError\u001b[0m                       Traceback (most recent call last)",
      "Cell \u001b[1;32mIn[1], line 3\u001b[0m\n\u001b[0;32m      1\u001b[0m \u001b[38;5;28;01mimport\u001b[39;00m \u001b[38;5;21;01mpandas\u001b[39;00m \u001b[38;5;28;01mas\u001b[39;00m \u001b[38;5;21;01mpd\u001b[39;00m\n\u001b[0;32m      2\u001b[0m \u001b[38;5;28;01mimport\u001b[39;00m \u001b[38;5;21;01mnumpy\u001b[39;00m \u001b[38;5;28;01mas\u001b[39;00m \u001b[38;5;21;01mnp\u001b[39;00m\n\u001b[1;32m----> 3\u001b[0m \u001b[38;5;28;01mimport\u001b[39;00m \u001b[38;5;21;01mseaborn\u001b[39;00m \u001b[38;5;28;01mas\u001b[39;00m \u001b[38;5;21;01msn\u001b[39;00m\n\u001b[0;32m      4\u001b[0m \u001b[38;5;28;01mimport\u001b[39;00m \u001b[38;5;21;01mmatplotlib\u001b[39;00m\u001b[38;5;21;01m.\u001b[39;00m\u001b[38;5;21;01mpyplot\u001b[39;00m \u001b[38;5;28;01mas\u001b[39;00m \u001b[38;5;21;01mplt\u001b[39;00m\n\u001b[0;32m      5\u001b[0m \u001b[38;5;28;01mfrom\u001b[39;00m \u001b[38;5;21;01msklearn\u001b[39;00m\u001b[38;5;21;01m.\u001b[39;00m\u001b[38;5;21;01mmodel_selection\u001b[39;00m \u001b[38;5;28;01mimport\u001b[39;00m train_test_split\n",
      "\u001b[1;31mModuleNotFoundError\u001b[0m: No module named 'seaborn'"
     ]
    }
   ],
   "source": [
    "import pandas as pd\n",
    "import numpy as np\n",
    "import seaborn as sn\n",
    "import matplotlib.pyplot as plt\n",
    "from sklearn.model_selection import train_test_split\n",
    "from sklearn.ensemble import RandomForestClassifier\n",
    "from sklearn.metrics import confusion_matrix\n",
    "from sklearn.metrics import accuracy_score\n",
    "from sklearn.metrics import classification_report"
   ]
  },
  {
   "cell_type": "code",
   "execution_count": null,
   "metadata": {},
   "outputs": [
    {
     "ename": "",
     "evalue": "",
     "output_type": "error",
     "traceback": [
      "\u001b[1;31mRunning cells with 'c:\\Users\\SpaceScientist\\AppData\\Local\\Microsoft\\WindowsApps\\python3.11.exe' requires the ipykernel package.\n",
      "\u001b[1;31mRun the following command to install 'ipykernel' into the Python environment. \n",
      "\u001b[1;31mCommand: 'c:/Users/SpaceScientist/AppData/Local/Microsoft/WindowsApps/python3.11.exe -m pip install ipykernel -U --user --force-reinstall'"
     ]
    }
   ],
   "source": [
    "df=pd.read_csv('diabetes_risk_prediction_dataset.csv')\n",
    "dft=pd.read_csv('diabetes_risk_prediction_dataset.csv')\n",
    "df.columns = [x.title() for x in df.columns]\n",
    "df.head()"
   ]
  },
  {
   "cell_type": "code",
   "execution_count": null,
   "metadata": {},
   "outputs": [
    {
     "ename": "",
     "evalue": "",
     "output_type": "error",
     "traceback": [
      "\u001b[1;31mRunning cells with 'c:\\Users\\SpaceScientist\\AppData\\Local\\Microsoft\\WindowsApps\\python3.11.exe' requires the ipykernel package.\n",
      "\u001b[1;31mRun the following command to install 'ipykernel' into the Python environment. \n",
      "\u001b[1;31mCommand: 'c:/Users/SpaceScientist/AppData/Local/Microsoft/WindowsApps/python3.11.exe -m pip install ipykernel -U --user --force-reinstall'"
     ]
    }
   ],
   "source": [
    "df['Gender'] = df['Gender'].apply(lambda x: 0 if x == 'Female' else 1)\n",
    "df['Polyuria'] = df['Polyuria'].apply(lambda x: 0 if x == 'No' else 1)\n",
    "df['Polydipsia'] = df['Polydipsia'].apply(lambda x: 0 if x == 'No' else 1)\n",
    "df['Sudden Weight Loss'] = df['Sudden Weight Loss'].apply(lambda x: 0 if x == 'No' else 1)\n",
    "df['Weakness'] = df['Weakness'].apply(lambda x: 0 if x == 'No' else 1)\n",
    "df['Polyphagia'] = df['Polyphagia'].apply(lambda x: 0 if x == 'No' else 1)\n",
    "df['Genital Thrush'] = df['Genital Thrush'].apply(lambda x: 0 if x == 'No' else 1)\n",
    "df['Visual Blurring'] = df['Visual Blurring'].apply(lambda x: 0 if x == 'No' else 1)\n",
    "df['Itching'] = df['Itching'].apply(lambda x: 0 if x == 'No' else 1)\n",
    "df['Irritability'] = df['Irritability'].apply(lambda x: 0 if x == 'No' else 1)\n",
    "df['Delayed Healing'] = df['Delayed Healing'].apply(lambda x: 0 if x == 'No' else 1)\n",
    "df['Partial Paresis'] = df['Partial Paresis'].apply(lambda x: 0 if x == 'No' else 1)\n",
    "df['Muscle Stiffness'] = df['Muscle Stiffness'].apply(lambda x: 0 if x == 'No' else 1)\n",
    "df['Alopecia'] = df['Alopecia'].apply(lambda x: 0 if x == 'No' else 1)\n",
    "df['Obesity'] = df['Obesity'].apply(lambda x: 0 if x == 'No' else 1)\n",
    "df['Class'] = df['Class'].apply(lambda x: 0 if x == 'Negative' else 1)\n",
    "df.head()"
   ]
  },
  {
   "cell_type": "code",
   "execution_count": null,
   "metadata": {},
   "outputs": [
    {
     "ename": "",
     "evalue": "",
     "output_type": "error",
     "traceback": [
      "\u001b[1;31mRunning cells with 'c:\\Users\\SpaceScientist\\AppData\\Local\\Microsoft\\WindowsApps\\python3.11.exe' requires the ipykernel package.\n",
      "\u001b[1;31mRun the following command to install 'ipykernel' into the Python environment. \n",
      "\u001b[1;31mCommand: 'c:/Users/SpaceScientist/AppData/Local/Microsoft/WindowsApps/python3.11.exe -m pip install ipykernel -U --user --force-reinstall'"
     ]
    }
   ],
   "source": [
    "df.isnull().sum()"
   ]
  },
  {
   "cell_type": "code",
   "execution_count": null,
   "metadata": {},
   "outputs": [
    {
     "ename": "",
     "evalue": "",
     "output_type": "error",
     "traceback": [
      "\u001b[1;31mRunning cells with 'c:\\Users\\SpaceScientist\\AppData\\Local\\Microsoft\\WindowsApps\\python3.11.exe' requires the ipykernel package.\n",
      "\u001b[1;31mRun the following command to install 'ipykernel' into the Python environment. \n",
      "\u001b[1;31mCommand: 'c:/Users/SpaceScientist/AppData/Local/Microsoft/WindowsApps/python3.11.exe -m pip install ipykernel -U --user --force-reinstall'"
     ]
    }
   ],
   "source": [
    "Count=df['Age'].count()\n",
    "Polyuria=dft['Polyuria'].value_counts()['Yes']\n",
    "Polydipsia=dft['Polydipsia'].value_counts()['Yes']\n",
    "Sudden_Weight_Loss=dft['sudden weight loss'].value_counts()['Yes']\n",
    "Weakness=dft['weakness'].value_counts()['Yes']\n",
    "Polyphagia=dft['Polyphagia'].value_counts()['Yes']\n",
    "Genital_thrush=dft['Genital thrush'].value_counts()['Yes']\n",
    "Visual_Blurring=dft['visual blurring'].value_counts()['Yes']\n",
    "Itching=dft['Itching'].value_counts()['Yes']\n",
    "Irritability=dft['Irritability'].value_counts()['Yes']\n",
    "Delayed_Healing=dft['delayed healing'].value_counts()['Yes']\n",
    "Partial_Paresis=dft['partial paresis'].value_counts()['Yes']\n",
    "Muscle_Stiffness=dft['muscle stiffness'].value_counts()['Yes']\n",
    "Alopecia=dft['Alopecia'].value_counts()['Yes']\n",
    "Obesity=dft['Obesity'].value_counts()['Yes']\n"
   ]
  },
  {
   "cell_type": "code",
   "execution_count": null,
   "metadata": {},
   "outputs": [
    {
     "ename": "",
     "evalue": "",
     "output_type": "error",
     "traceback": [
      "\u001b[1;31mRunning cells with 'c:\\Users\\SpaceScientist\\AppData\\Local\\Microsoft\\WindowsApps\\python3.11.exe' requires the ipykernel package.\n",
      "\u001b[1;31mRun the following command to install 'ipykernel' into the Python environment. \n",
      "\u001b[1;31mCommand: 'c:/Users/SpaceScientist/AppData/Local/Microsoft/WindowsApps/python3.11.exe -m pip install ipykernel -U --user --force-reinstall'"
     ]
    }
   ],
   "source": [
    "print(\"No. of Patients with Polyuria Symptoms per Total Patients-\"+(str(Polyuria)+\"/\"+str(Count)))\n",
    "print(\"No. of Patients with Polydipsia Symptoms per Total Patients-\"+(str(Polydipsia)+\"/\"+str(Count)))\n",
    "print(\"No. of Patients with Sudden Weight Loss Symptoms per Total Patients-\"+(str(Sudden_Weight_Loss)+\"/\"+str(Count)))\n",
    "print(\"No. of Patients with Weakness Symptoms per Total Patients-\"+(str(Weakness)+\"/\"+str(Count)))\n",
    "print(\"No. of Patients with Poluphagia Symptoms per Total Patients-\"+(str(Polyphagia)+\"/\"+str(Count)))\n",
    "print(\"No. of Patients with Genital Thrush Symptoms per Total Patients-\"+(str(Genital_thrush)+\"/\"+str(Count)))\n",
    "print(\"No. of Patients with Visual Blurring Symptoms per Total Patients-\"+(str(Visual_Blurring)+\"/\"+str(Count)))\n",
    "print(\"No. of Patients with Itching Symptoms per Total Patients-\"+(str(Itching)+\"/\"+str(Count)))\n",
    "print(\"No. of Patients with Irritability Symptoms per Total Patients-\"+(str(Irritability)+\"/\"+str(Count)))\n",
    "print(\"No. of Patients with Delayed Healing Symptoms per Total Patients-\"+(str(Delayed_Healing)+\"/\"+str(Count)))\n",
    "print(\"No. of Patients with Partial Paresis Symptoms per Total Patients-\"+(str(Partial_Paresis)+\"/\"+str(Count)))\n",
    "print(\"No. of Patients with Muslce Stiffness Symptoms per Total Patients-\"+(str(Muscle_Stiffness)+\"/\"+str(Count)))\n",
    "print(\"No. of Patients with Alopecia Symptoms per Total Patients-\"+(str(Alopecia)+\"/\"+str(Count)))\n",
    "print(\"No. of Patients with Obesity Symptoms per Total Patients-\"+(str(Obesity)+\"/\"+str(Count)))"
   ]
  },
  {
   "cell_type": "code",
   "execution_count": null,
   "metadata": {},
   "outputs": [
    {
     "ename": "",
     "evalue": "",
     "output_type": "error",
     "traceback": [
      "\u001b[1;31mRunning cells with 'c:\\Users\\SpaceScientist\\AppData\\Local\\Microsoft\\WindowsApps\\python3.11.exe' requires the ipykernel package.\n",
      "\u001b[1;31mRun the following command to install 'ipykernel' into the Python environment. \n",
      "\u001b[1;31mCommand: 'c:/Users/SpaceScientist/AppData/Local/Microsoft/WindowsApps/python3.11.exe -m pip install ipykernel -U --user --force-reinstall'"
     ]
    }
   ],
   "source": [
    "Symptoms1=[Polyuria,Polydipsia,Sudden_Weight_Loss,Weakness,Polyphagia,Genital_thrush,Visual_Blurring,Itching,Irritability,Delayed_Healing,Partial_Paresis,Muscle_Stiffness,Alopecia,Obesity]\n",
    "Symptoms2=[\"Polyuria\",\"Polydipsia\",\"Sudden Weight Loss\",\"Weakness\",\"Polyphagia\",\"Genital thrush\",\"Visual Blurring\",\"Itching\",\"Irritability\",\"Delayed Healing\",\"Partial Paresis\",\"Muscle Stiffness\",\"Alopecia\",\"Obesity\"]\n",
    "plt.plot(Symptoms2,Symptoms1)\n",
    "plt.xticks(Symptoms2, rotation=90)\n",
    "plt.xlabel(\"Symptoms\",)\n",
    "plt.tick_params(axis='x', which='major', labelsize=10)\n",
    "plt.tight_layout()\n",
    "plt.ylabel(\"No. of People\")\n",
    "plt.ylim(50,350)\n",
    "plt.show()"
   ]
  },
  {
   "cell_type": "markdown",
   "metadata": {},
   "source": [
    "Percentage of having certain Symptoms"
   ]
  },
  {
   "cell_type": "code",
   "execution_count": null,
   "metadata": {},
   "outputs": [
    {
     "ename": "",
     "evalue": "",
     "output_type": "error",
     "traceback": [
      "\u001b[1;31mRunning cells with 'c:\\Users\\SpaceScientist\\AppData\\Local\\Microsoft\\WindowsApps\\python3.11.exe' requires the ipykernel package.\n",
      "\u001b[1;31mRun the following command to install 'ipykernel' into the Python environment. \n",
      "\u001b[1;31mCommand: 'c:/Users/SpaceScientist/AppData/Local/Microsoft/WindowsApps/python3.11.exe -m pip install ipykernel -U --user --force-reinstall'"
     ]
    }
   ],
   "source": [
    "Percentage=[(Polyuria/Count)*100,(Polydipsia/Count)*100,(Sudden_Weight_Loss/Count)*100,(Weakness/Count)*100,(Polyphagia/Count)*100,(Genital_thrush/Count)*100,(Visual_Blurring/Count)*100,(Itching/Count)*100,(Irritability/Count)*100,(Delayed_Healing/Count)*100,(Partial_Paresis/Count)*100,(Muscle_Stiffness/Count)*100,(Alopecia/Count)*100,(Obesity/Count)*100,]\n",
    "x=dict(zip(Symptoms2, Percentage))\n",
    "y=dict(sorted(x.items(), key=lambda item: item[1]))\n",
    "keys=[key for key in y.keys()]\n",
    "values=[value for value in y.values()]\n",
    "plt.bar(keys,values)\n",
    "plt.xticks(keys, rotation=90)\n",
    "plt.xlabel(\"Symptoms\")\n",
    "plt.ylabel(\"Percentage\")\n",
    "plt.ylim([0, 80])\n",
    "plt.title(\"Chances of having Diabetic Symptoms\")\n",
    "plt.show()"
   ]
  },
  {
   "cell_type": "code",
   "execution_count": null,
   "metadata": {},
   "outputs": [
    {
     "ename": "",
     "evalue": "",
     "output_type": "error",
     "traceback": [
      "\u001b[1;31mRunning cells with 'c:\\Users\\SpaceScientist\\AppData\\Local\\Microsoft\\WindowsApps\\python3.11.exe' requires the ipykernel package.\n",
      "\u001b[1;31mRun the following command to install 'ipykernel' into the Python environment. \n",
      "\u001b[1;31mCommand: 'c:/Users/SpaceScientist/AppData/Local/Microsoft/WindowsApps/python3.11.exe -m pip install ipykernel -U --user --force-reinstall'"
     ]
    }
   ],
   "source": [
    "sn.distplot(df['Age'],bins=30)\n",
    "plt.title(\"\") "
   ]
  },
  {
   "cell_type": "markdown",
   "metadata": {},
   "source": [
    "Predicting True Positives, True Negatives, False Positives, False Negatives using Random Classifier"
   ]
  },
  {
   "cell_type": "code",
   "execution_count": null,
   "metadata": {},
   "outputs": [
    {
     "ename": "",
     "evalue": "",
     "output_type": "error",
     "traceback": [
      "\u001b[1;31mRunning cells with 'c:\\Users\\SpaceScientist\\AppData\\Local\\Microsoft\\WindowsApps\\python3.11.exe' requires the ipykernel package.\n",
      "\u001b[1;31mRun the following command to install 'ipykernel' into the Python environment. \n",
      "\u001b[1;31mCommand: 'c:/Users/SpaceScientist/AppData/Local/Microsoft/WindowsApps/python3.11.exe -m pip install ipykernel -U --user --force-reinstall'"
     ]
    }
   ],
   "source": [
    "X=df.drop('Class',axis='columns')\n",
    "X"
   ]
  },
  {
   "cell_type": "code",
   "execution_count": null,
   "metadata": {},
   "outputs": [
    {
     "ename": "",
     "evalue": "",
     "output_type": "error",
     "traceback": [
      "\u001b[1;31mRunning cells with 'c:\\Users\\SpaceScientist\\AppData\\Local\\Microsoft\\WindowsApps\\python3.11.exe' requires the ipykernel package.\n",
      "\u001b[1;31mRun the following command to install 'ipykernel' into the Python environment. \n",
      "\u001b[1;31mCommand: 'c:/Users/SpaceScientist/AppData/Local/Microsoft/WindowsApps/python3.11.exe -m pip install ipykernel -U --user --force-reinstall'"
     ]
    }
   ],
   "source": [
    "y=df['Class']\n",
    "y"
   ]
  },
  {
   "cell_type": "code",
   "execution_count": null,
   "metadata": {},
   "outputs": [
    {
     "ename": "",
     "evalue": "",
     "output_type": "error",
     "traceback": [
      "\u001b[1;31mRunning cells with 'c:\\Users\\SpaceScientist\\AppData\\Local\\Microsoft\\WindowsApps\\python3.11.exe' requires the ipykernel package.\n",
      "\u001b[1;31mRun the following command to install 'ipykernel' into the Python environment. \n",
      "\u001b[1;31mCommand: 'c:/Users/SpaceScientist/AppData/Local/Microsoft/WindowsApps/python3.11.exe -m pip install ipykernel -U --user --force-reinstall'"
     ]
    }
   ],
   "source": [
    "X_train, X_test, y_train, y_test = train_test_split(X, y, test_size=0.2, random_state=0)"
   ]
  },
  {
   "cell_type": "code",
   "execution_count": null,
   "metadata": {},
   "outputs": [
    {
     "ename": "",
     "evalue": "",
     "output_type": "error",
     "traceback": [
      "\u001b[1;31mRunning cells with 'c:\\Users\\SpaceScientist\\AppData\\Local\\Microsoft\\WindowsApps\\python3.11.exe' requires the ipykernel package.\n",
      "\u001b[1;31mRun the following command to install 'ipykernel' into the Python environment. \n",
      "\u001b[1;31mCommand: 'c:/Users/SpaceScientist/AppData/Local/Microsoft/WindowsApps/python3.11.exe -m pip install ipykernel -U --user --force-reinstall'"
     ]
    }
   ],
   "source": [
    "model = RandomForestClassifier(n_estimators=50, criterion='entropy', bootstrap=True)\n",
    "model.fit(X_train.values, y_train.values)\n",
    "model.score(X_test.values, y_test.values)"
   ]
  },
  {
   "cell_type": "code",
   "execution_count": null,
   "metadata": {},
   "outputs": [
    {
     "ename": "",
     "evalue": "",
     "output_type": "error",
     "traceback": [
      "\u001b[1;31mRunning cells with 'c:\\Users\\SpaceScientist\\AppData\\Local\\Microsoft\\WindowsApps\\python3.11.exe' requires the ipykernel package.\n",
      "\u001b[1;31mRun the following command to install 'ipykernel' into the Python environment. \n",
      "\u001b[1;31mCommand: 'c:/Users/SpaceScientist/AppData/Local/Microsoft/WindowsApps/python3.11.exe -m pip install ipykernel -U --user --force-reinstall'"
     ]
    }
   ],
   "source": [
    "y_pred = model.predict(X_test.values)\n",
    "cm = confusion_matrix(y_test, y_pred)"
   ]
  },
  {
   "cell_type": "markdown",
   "metadata": {},
   "source": [
    "Plotting a Heatmap for TN,FP,FN,TP"
   ]
  },
  {
   "cell_type": "code",
   "execution_count": null,
   "metadata": {},
   "outputs": [
    {
     "ename": "",
     "evalue": "",
     "output_type": "error",
     "traceback": [
      "\u001b[1;31mRunning cells with 'c:\\Users\\SpaceScientist\\AppData\\Local\\Microsoft\\WindowsApps\\python3.11.exe' requires the ipykernel package.\n",
      "\u001b[1;31mRun the following command to install 'ipykernel' into the Python environment. \n",
      "\u001b[1;31mCommand: 'c:/Users/SpaceScientist/AppData/Local/Microsoft/WindowsApps/python3.11.exe -m pip install ipykernel -U --user --force-reinstall'"
     ]
    }
   ],
   "source": [
    "group_names = ['True Neg', 'False Pos', 'False Neg', 'True Pos']\n",
    "group_counts = ['{0:0.0f}'.format(value) for value in cm.flatten()]\n",
    "group_percentages = ['{0:.2%}'.format(value) for value in cm.flatten()/np.sum(cm)]\n",
    "labels = [f'{v1}\\n{v2}\\n{v3}' for v1, v2, v3 in zip(group_names, group_counts, group_percentages)]\n",
    "labels = np.asarray(labels).reshape(2,2)\n",
    "sn.heatmap(cm, annot=labels, fmt='')"
   ]
  },
  {
   "cell_type": "code",
   "execution_count": null,
   "metadata": {},
   "outputs": [
    {
     "ename": "",
     "evalue": "",
     "output_type": "error",
     "traceback": [
      "\u001b[1;31mRunning cells with 'c:\\Users\\SpaceScientist\\AppData\\Local\\Microsoft\\WindowsApps\\python3.11.exe' requires the ipykernel package.\n",
      "\u001b[1;31mRun the following command to install 'ipykernel' into the Python environment. \n",
      "\u001b[1;31mCommand: 'c:/Users/SpaceScientist/AppData/Local/Microsoft/WindowsApps/python3.11.exe -m pip install ipykernel -U --user --force-reinstall'"
     ]
    }
   ],
   "source": [
    "Random_Forest=accuracy_score(y_pred,y_test)\n",
    "print(\"Accuracy is \"+str(Random_Forest*100)+\" %\")\n",
    "print(classification_report(y_pred,y_test))"
   ]
  }
 ],
 "metadata": {
  "kernelspec": {
   "display_name": "Python 3",
   "language": "python",
   "name": "python3"
  },
  "language_info": {
   "codemirror_mode": {
    "name": "ipython",
    "version": 3
   },
   "file_extension": ".py",
   "mimetype": "text/x-python",
   "name": "python",
   "nbconvert_exporter": "python",
   "pygments_lexer": "ipython3",
   "version": "3.11.7"
  }
 },
 "nbformat": 4,
 "nbformat_minor": 2
}
